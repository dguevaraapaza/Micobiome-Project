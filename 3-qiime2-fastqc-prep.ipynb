{
 "cells": [
  {
   "cell_type": "code",
   "execution_count": null,
   "metadata": {},
   "outputs": [
    {
     "name": "stdout",
     "output_type": "stream",
     "text": [
      "\u001b[32mImported data/manifest.tsv as SingleEndFastqManifestPhred33V2 to output/sequences.qza\u001b[0m\n",
      "\u001b[0m"
     ]
    }
   ],
   "source": [
    "##### FASTAQ to Artifact #####\n",
    "# import the fasta files into a QIIME2 artifact\n",
    "!qiime tools import \\\n",
    "  --type 'SampleData[SequencesWithQuality]' \\\n",
    "  --input-path data/manifest.tsv \\\n",
    "  --output-path output/sequences.qza \\\n",
    "  --input-format SingleEndFastqManifestPhred33V2"
   ]
  },
  {
   "cell_type": "code",
   "execution_count": null,
   "metadata": {},
   "outputs": [],
   "source": [
    "##### Artifact to Visualization #####\n",
    "# QIIME to visualize our sequencing data.\n",
    "!qiime demux summarize \\\n",
    "\t--i-data output/sequences.qza \\\n",
    "\t--o-visualization output/qualities.qzv"
   ]
  },
  {
   "cell_type": "code",
   "execution_count": 1,
   "metadata": {},
   "outputs": [
    {
     "name": "stdout",
     "output_type": "stream",
     "text": [
      "Running external command line application(s). This may print messages to stdout and/or stderr.\n",
      "The command(s) being run are below. These commands cannot be manually re-run as they will depend on temporary files that no longer exist.\n",
      "\n",
      "Command: run_dada.R --input_directory /tmp/qiime2/davo/data/3cea2534-4ce9-45a2-8b9c-e88e3b609faf/data --output_path /tmp/tmpf9vp4g_5/output.tsv.biom --output_track /tmp/tmpf9vp4g_5/track.tsv --filtered_directory /tmp/tmpf9vp4g_5 --truncation_length 150 --trim_left 0 --max_expected_errors 2.0 --truncation_quality_score 2 --max_length Inf --pooling_method independent --chimera_method consensus --min_parental_fold 1.0 --allow_one_off False --num_threads 2 --learn_min_reads 1000000 --homopolymer_gap_penalty NULL --band_size 16\n",
      "\n",
      "R version 4.3.3 (2024-02-29) \n",
      "Loading required package: Rcpp\n",
      "\u001b[?25hDADA2: 1.30.0 / Rcpp: 1.0.13.1 / RcppParallel: 5.1.9 \n",
      "\u001b[?25h\u001b[?25h2) Filtering \u001b[?25h\u001b[?25h..................................................................................................................................................................................\u001b[?25h\u001b[?25h\u001b[?25h\n",
      "\u001b[?25h\u001b[?25h3) Learning Error Rates\n",
      "\u001b[?25h157371000 total bases in 1049140 reads from 53 samples will be used for learning the error rates.\n",
      "\u001b[?25h4) Denoise samples \n",
      "..................................................................................................................................................................................\n",
      "\u001b[?25h5) Remove chimeras (method = consensus)\n",
      "\u001b[?25h\u001b[?25h6) Report read numbers through the pipeline\n",
      "\u001b[?25h\u001b[?25h7) Write output\n",
      "\u001b[?25h\u001b[?25h\u001b[?25h\u001b[?25h\u001b[?25h\u001b[?25h\u001b[?25h\u001b[32mSaved FeatureTable[Frequency] to: dada/table.qza\u001b[0m\n",
      "\u001b[32mSaved FeatureData[Sequence] to: dada/representative_sequences.qza\u001b[0m\n",
      "\u001b[32mSaved SampleData[DADA2Stats] to: dada/denoising_stats.qza\u001b[0m\n",
      "\u001b[0m"
     ]
    }
   ],
   "source": [
    "##### Quality Filtering: From Sequence to ASV #####\n",
    "!qiime dada2 denoise-single \\\n",
    "    --i-demultiplexed-seqs output/sequences.qza \\\n",
    "    --p-trunc-len 150 \\\n",
    "    --p-n-threads 2 \\\n",
    "    --output-dir dada --verbose"
   ]
  },
  {
   "cell_type": "code",
   "execution_count": 2,
   "metadata": {},
   "outputs": [
    {
     "name": "stdout",
     "output_type": "stream",
     "text": [
      "\u001b[32mSaved Visualization to: dada/denoising-stats.qzv\u001b[0m\n",
      "\u001b[0m"
     ]
    }
   ],
   "source": [
    "# Demutliplex your sequences\n",
    "!qiime metadata tabulate \\\n",
    "    --m-input-file dada/denoising_stats.qza \\\n",
    "    --o-visualization dada/denoising-stats.qzv"
   ]
  }
 ],
 "metadata": {
  "kernelspec": {
   "display_name": "qiime2-amplicon-2024.10",
   "language": "python",
   "name": "python3"
  },
  "language_info": {
   "codemirror_mode": {
    "name": "ipython",
    "version": 3
   },
   "file_extension": ".py",
   "mimetype": "text/x-python",
   "name": "python",
   "nbconvert_exporter": "python",
   "pygments_lexer": "ipython3",
   "version": "3.10.14"
  }
 },
 "nbformat": 4,
 "nbformat_minor": 2
}
