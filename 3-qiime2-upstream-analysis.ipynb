{
 "cells": [
  {
   "cell_type": "code",
   "execution_count": 4,
   "metadata": {},
   "outputs": [],
   "source": [
    "import qiime2 as qi\n",
    "# !qiime info"
   ]
  },
  {
   "cell_type": "code",
   "execution_count": null,
   "metadata": {},
   "outputs": [
    {
     "name": "stdout",
     "output_type": "stream",
     "text": [
      "\u001b[32mImported emp-single-end-sequences as EMPSingleEndDirFmt to emp-single-end-sequences.qza\u001b[0m\n",
      "\u001b[0m"
     ]
    }
   ],
   "source": [
    "#import the fastą files into a QIIME2 artifact\n",
    "!qiime tools import \\\n",
    "\t--type EMPSingleEndSequences \\\n",
    "\t--input-path emp-single-end-sequences \\\n",
    "\t--output-path emp-single-end-sequences.qza"
   ]
  },
  {
   "cell_type": "code",
   "execution_count": null,
   "metadata": {},
   "outputs": [
    {
     "name": "stdout",
     "output_type": "stream",
     "text": [
      "Usage: \u001b[94mqiime demux emp-single\u001b[0m [OPTIONS]\n",
      "\n",
      "  Demultiplex sequence data (i.e., map barcode reads to sample ids) for data\n",
      "  generated with the Earth Microbiome Project (EMP) amplicon sequencing\n",
      "  protocol. Details about this protocol can be found at\n",
      "  http://www.earthmicrobiome.org/protocols-and-standards/\n",
      "\n",
      "\u001b[1mInputs\u001b[0m:\n",
      "  \u001b[94m\u001b[4m--i-seqs\u001b[0m ARTIFACT \u001b[32mRawSequences | EMPSingleEndSequences |\u001b[0m\n",
      "    \u001b[32mEMPPairedEndSequences\u001b[0m\n",
      "                         The single-end sequences to be demultiplexed.\n",
      "                                                                    \u001b[35m[required]\u001b[0m\n",
      "\u001b[1mParameters\u001b[0m:\n",
      "  \u001b[94m\u001b[4m--m-barcodes-file\u001b[0m METADATA\n",
      "  \u001b[94m\u001b[4m--m-barcodes-column\u001b[0m COLUMN  \u001b[32mMetadataColumn[Categorical]\u001b[0m\n",
      "                         The sample metadata column containing the per-sample\n",
      "                         barcodes.                                  \u001b[35m[required]\u001b[0m\n",
      "  \u001b[94m--p-golay-error-correction\u001b[0m / \u001b[94m--p-no-golay-error-correction\u001b[0m\n",
      "                         Perform 12nt Golay error correction on the barcode\n",
      "                         reads.                                \u001b[35m[default: True]\u001b[0m\n",
      "  \u001b[94m--p-rev-comp-barcodes\u001b[0m / \u001b[94m--p-no-rev-comp-barcodes\u001b[0m\n",
      "                         If provided, the barcode sequence reads will be\n",
      "                         reverse complemented prior to demultiplexing.\n",
      "                                                              \u001b[35m[default: False]\u001b[0m\n",
      "  \u001b[94m--p-rev-comp-mapping-barcodes\u001b[0m / \u001b[94m--p-no-rev-comp-mapping-barcodes\u001b[0m\n",
      "                         If provided, the barcode sequences in the sample\n",
      "                         metadata will be reverse complemented prior to\n",
      "                         demultiplexing.                      \u001b[35m[default: False]\u001b[0m\n",
      "  \u001b[94m--p-ignore-description-mismatch\u001b[0m / \u001b[94m--p-no-ignore-description-mismatch\u001b[0m\n",
      "                         If enabled, ignore mismatches in sequence record\n",
      "                         description fields.                  \u001b[35m[default: False]\u001b[0m\n",
      "\u001b[1mOutputs\u001b[0m:\n",
      "  \u001b[94m\u001b[4m--o-per-sample-sequences\u001b[0m ARTIFACT \u001b[32mSampleData[SequencesWithQuality]\u001b[0m\n",
      "                         The resulting demultiplexed sequences.     \u001b[35m[required]\u001b[0m\n",
      "  \u001b[94m\u001b[4m--o-error-correction-details\u001b[0m ARTIFACT \u001b[32mErrorCorrectionDetails\u001b[0m\n",
      "                         Detail about the barcode error corrections.\n",
      "                                                                    \u001b[35m[required]\u001b[0m\n",
      "\u001b[1mMiscellaneous\u001b[0m:\n",
      "  \u001b[94m--output-dir\u001b[0m PATH      Output unspecified results to a directory\n",
      "  \u001b[94m--verbose\u001b[0m / \u001b[94m--quiet\u001b[0m    Display verbose output to stdout and/or stderr\n",
      "                         during execution of this action. Or silence output if\n",
      "                         execution is successful (silence is golden).\n",
      "  \u001b[94m--example-data\u001b[0m PATH    Write example data and exit.\n",
      "  \u001b[94m--citations\u001b[0m            Show citations and exit.\n",
      "  \u001b[94m--use-cache\u001b[0m DIRECTORY  Specify the cache to be used for the intermediate\n",
      "                         work of this action. If not provided, the default\n",
      "                         cache under $TMP/qiime2/<uname> will be used.\n",
      "                         IMPORTANT FOR HPC USERS: If you are on an HPC system\n",
      "                         and are using parallel execution it is important to\n",
      "                         set this to a location that is globally accessible to\n",
      "                         all nodes in the cluster.\n",
      "  \u001b[94m--help\u001b[0m                 Show this message and exit.\n",
      "\n",
      "\u001b[1mExamples\u001b[0m:\n",
      "  # ### example: demux\n",
      "  qiime demux emp-single \\\n",
      "    --i-seqs sequences.qza \\\n",
      "    --m-barcodes-file sample-metadata.tsv \\\n",
      "    --m-barcodes-column barcode-sequence \\\n",
      "    --o-per-sample-sequences demux.qza \\\n",
      "    --o-error-correction-details demux-details.qza\n",
      "  \n",
      "\n",
      "\u001b[33m                    There was a problem with the command:                     \u001b[0m\n",
      "\u001b[31m\u001b[1m (1/1?) No such option: --barcodes-column Did you mean --m-barcodes-column?\u001b[0m\n",
      "\u001b[0m"
     ]
    }
   ],
   "source": [
    "# Demutliplex your sequences\n",
    "!qiime demux emp-single \\\n",
    "\t--i-seqs emp-single-end-sequences.qza \\\n",
    "\t--m-barcodes-file sample-metadata.tsv \\\n",
    "\t--m-barcodes-column barcode-sequence \\\n",
    "\t--o-per-sample-sequences demux.qza \\\n",
    "\t--output-dir demux"
   ]
  }
 ],
 "metadata": {
  "kernelspec": {
   "display_name": "qiime2-amplicon-2024.10",
   "language": "python",
   "name": "python3"
  },
  "language_info": {
   "codemirror_mode": {
    "name": "ipython",
    "version": 3
   },
   "file_extension": ".py",
   "mimetype": "text/x-python",
   "name": "python",
   "nbconvert_exporter": "python",
   "pygments_lexer": "ipython3",
   "version": "3.10.14"
  }
 },
 "nbformat": 4,
 "nbformat_minor": 2
}
